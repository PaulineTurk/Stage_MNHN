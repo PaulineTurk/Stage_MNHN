{
 "cells": [
  {
   "cell_type": "code",
   "execution_count": 1,
   "metadata": {},
   "outputs": [],
   "source": [
    "from pickle import TRUE\n",
    "import dataSplit\n",
    "import os, shutil\n",
    "import redundancy\n",
    "import Stockholm_Fasta\n",
    "import PID_save as pid\n",
    "import redundancy\n",
    "import numpy as np\n",
    "import pandas as pd\n",
    "import mainBlosum\n",
    "import mainBlosumBrier\n",
    "import lowerToUpper\n",
    "import dataCountDescription\n",
    "import mainNeighbor\n",
    "import ContextuelBrier"
   ]
  },
  {
   "cell_type": "markdown",
   "metadata": {},
   "source": [
    "# Initial configuration\n",
    "\n",
    "Manual initialisation of a folder containing Pfam_dev (sample of the downloaded version from Pfam)"
   ]
  },
  {
   "cell_type": "code",
   "execution_count": 2,
   "metadata": {},
   "outputs": [],
   "source": [
    "path_main_folder =  \"/Users/pauline/Desktop/test_dev\" \n",
    "name_file_from_Pfam = \"Pfam_dev\"\n",
    "path_file_from_Pfam = f\"{path_main_folder}/{name_file_from_Pfam}\" "
   ]
  },
  {
   "cell_type": "markdown",
   "metadata": {},
   "source": [
    "\n",
    "#  User choices"
   ]
  },
  {
   "cell_type": "code",
   "execution_count": 3,
   "metadata": {},
   "outputs": [],
   "source": [
    "name_folder_stockholm = \"Pfam_Stockholm\"\n",
    "name_folder_fasta = \"Pfam_fasta\"\n",
    "name_folder_upper = \"Pfam_upper\"\n",
    "name_folder_pid = \"PID_couple\"\n",
    "name_fasta_non_redondant = \"Pfam_fasta_99\"\n",
    "\n",
    "list_residu = [\"A\", \"R\", \"N\", \"D\", \"C\", \"Q\", \"E\", \"G\", \"H\", \"I\", \"L\", \"K\", \"M\", \"F\", \"P\", \"S\", \"T\", \"W\", \"Y\", \"V\"]\n",
    "pid_sup = 99"
   ]
  },
  {
   "cell_type": "code",
   "execution_count": 4,
   "metadata": {},
   "outputs": [],
   "source": [
    "data_treatment = True\n",
    "descriptionPfam = True\n",
    "\n",
    "new_folder = True\n",
    "\n",
    "blosumGenerator = True\n",
    "blosum_overfitting_test = True\n",
    "\n",
    "cube_generator = True\n",
    "\n"
   ]
  },
  {
   "cell_type": "markdown",
   "metadata": {},
   "source": [
    "## Data treatment\n",
    "(do it once !)"
   ]
  },
  {
   "cell_type": "code",
   "execution_count": 5,
   "metadata": {},
   "outputs": [
    {
     "name": "stdout",
     "output_type": "stream",
     "text": [
      "---> Separation of the multiStockholm file into monoStockholm files: 0.01201 s\n",
      "---> Conversion of Stockholm files into Fasta files: 0.09034 s\n",
      "---> Correction upper files: 0.01388 s\n",
      "---> Compute and save the pId files: 2.60851 s\n",
      "---> Compute and save non-redundant files: 1.16821 s\n",
      "nbre_seed: 11.00\n",
      "nbre_seq: 769.00\n",
      "total_residu: 151,435.00\n",
      "nbre_position: 2,452.00\n",
      "mean_len_seq: 196.92\n",
      "mean_nbre_seq: 69.91\n",
      "---> Time for data description: 0.54389 s\n"
     ]
    }
   ],
   "source": [
    "path_folder_stockholm = f\"{path_main_folder}/{name_folder_stockholm}\"  \n",
    "path_folder_fasta = f\"{path_main_folder}/{name_folder_fasta}\"\n",
    "path_folder_upper = f\"{path_main_folder}/{name_folder_upper}\"\n",
    "path_folder_pId = f\"{path_main_folder}/{name_folder_pid}\"\n",
    "path_folder_fasta_non_redondant =  f\"{path_main_folder}/{name_fasta_non_redondant}\" \n",
    "\n",
    "\n",
    "\n",
    "\n",
    "\n",
    "\n",
    "if data_treatment == True:\n",
    "    # separation of the Stockholm file into Stockholm files\n",
    "    Stockholm_Fasta.separationStockholm(path_file_from_Pfam, path_folder_stockholm) \n",
    "    #fileNumber.countFile(path_folder_stockholm)  \n",
    "\n",
    "    # conversion from stockholm into fasta files\n",
    "    Stockholm_Fasta.multiStockholmToFasta(path_folder_fasta, path_folder_stockholm)  \n",
    "    #dataCountDescription.dataCountDescription(path_folder_fasta)\n",
    "\n",
    "    # conversion of all the residus lower case into upper case\n",
    "    lowerToUpper.multiLowerToUpper(path_folder_fasta, path_folder_upper)\n",
    "    #dataCountDescription.dataCountDescription(path_folder_upper)\n",
    "\n",
    "    # pid couple calculation\n",
    "    pid.savePId(path_folder_upper, path_folder_pId)   \n",
    "\n",
    "    # redundancy issue  \n",
    "    redundancy.savePIdNonRedondant(path_folder_upper, path_folder_fasta_non_redondant, pid_sup, list_residu) \n",
    "    #dataCountDescription.dataCountDescription(path_folder_fasta_non_redondant)\n",
    "\n",
    "\n",
    "# description Pfam after data treatment\n",
    "if descriptionPfam == True:\n",
    "    dataCountDescription.dataCountDescription(path_folder_fasta_non_redondant, list_residu)\n",
    "\n",
    "\n"
   ]
  },
  {
   "cell_type": "markdown",
   "metadata": {},
   "source": [
    "# Data_split versionning"
   ]
  },
  {
   "cell_type": "code",
   "execution_count": 6,
   "metadata": {},
   "outputs": [
    {
     "name": "stdout",
     "output_type": "stream",
     "text": [
      "---> Split data_total in data_A and data_B: 0.01209 s\n"
     ]
    }
   ],
   "source": [
    "name_new_folder =  \"test_1\" # check that the name is not already taken\n",
    "list_percentage = [50]  \n",
    "path_new_folder = f\"{path_main_folder}/{name_new_folder}\"\n",
    "name_data_A = \"Pfam_A\"\n",
    "name_data_B = \"Pfam_B\"\n",
    "\n",
    "\n",
    "if new_folder == True:\n",
    "    if os.path.isdir(path_new_folder ):\n",
    "        shutil.rmtree(path_new_folder ) \n",
    "    os.mkdir(path_new_folder)\n",
    "\n",
    "    path_folder_fasta_non_redondant =  f\"{path_main_folder}/{name_fasta_non_redondant}\"   \n",
    " \n",
    "    for percentage_A in list_percentage:\n",
    "        name_folder_data_split = f\"PfamSplit_{str(percentage_A)}\"\n",
    "        path_folder_data_split = f\"{path_new_folder}/{name_folder_data_split}\"\n",
    "        dataSplit.dataSplit(path_folder_fasta_non_redondant, path_folder_data_split, percentage_A, name_data_A, name_data_B)"
   ]
  },
  {
   "cell_type": "markdown",
   "metadata": {},
   "source": [
    "# Non-contextual Blosum"
   ]
  },
  {
   "cell_type": "code",
   "execution_count": 7,
   "metadata": {},
   "outputs": [
    {
     "name": "stdout",
     "output_type": "stream",
     "text": [
      "folder_train: /Users/pauline/Desktop/test_dev/test_1/PfamSplit_50/Pfam_A\n",
      "---> Compute the substitution matrix and the conditional probability matrix: 0.21205 s\n",
      "folder_train: /Users/pauline/Desktop/test_dev/test_1/PfamSplit_50/Pfam_B\n",
      "---> Compute the substitution matrix and the conditional probability matrix: 1.0503 s\n"
     ]
    }
   ],
   "source": [
    "name_BlosumRes = \"BlosumRes\"\n",
    "path_BlosumRes = f\"{path_new_folder}/{name_BlosumRes}\" \n",
    "\n",
    "\n",
    "\n",
    "\n",
    "if blosumGenerator == True:\n",
    "    if os.path.isdir(path_BlosumRes):\n",
    "        shutil.rmtree(path_BlosumRes) \n",
    "    os.mkdir(path_BlosumRes)\n",
    "    for percentage_train in list_percentage:\n",
    "        mainBlosum.conditionalProbaGenerator(path_new_folder, percentage_train, path_folder_pId, path_BlosumRes, list_residu, name_data_A)  \n",
    "        mainBlosum.conditionalProbaGenerator(path_new_folder, percentage_train, path_folder_pId, path_BlosumRes, list_residu, name_data_B) \n"
   ]
  },
  {
   "cell_type": "markdown",
   "metadata": {},
   "source": [
    "# Brier Score\n",
    "\n",
    "Over-fitting part"
   ]
  },
  {
   "cell_type": "code",
   "execution_count": 8,
   "metadata": {},
   "outputs": [
    {
     "name": "stdout",
     "output_type": "stream",
     "text": [
      "folder_fasta_train: /Users/pauline/Desktop/test_dev/test_1/PfamSplit_50/Pfam_A\n",
      "folder_fasta_test: /Users/pauline/Desktop/test_dev/test_1/PfamSplit_50/Pfam_A\n",
      "---> Brier Score with Blosum Predictor: 0.10074 s\n",
      "Blosum Predictor Brier Score: 0.5912057526322123\n",
      "\n",
      "folder_fasta_train: /Users/pauline/Desktop/test_dev/test_1/PfamSplit_50/Pfam_A\n",
      "folder_fasta_test: /Users/pauline/Desktop/test_dev/test_1/PfamSplit_50/Pfam_B\n",
      "---> Brier Score with Blosum Predictor: 0.71656 s\n",
      "Blosum Predictor Brier Score: 0.6129212118468453\n",
      "\n",
      "folder_fasta_train: /Users/pauline/Desktop/test_dev/test_1/PfamSplit_50/Pfam_B\n",
      "folder_fasta_test: /Users/pauline/Desktop/test_dev/test_1/PfamSplit_50/Pfam_A\n",
      "---> Brier Score with Blosum Predictor: 0.25534 s\n",
      "Blosum Predictor Brier Score: 0.6124667306441905\n",
      "\n",
      "folder_fasta_train: /Users/pauline/Desktop/test_dev/test_1/PfamSplit_50/Pfam_B\n",
      "folder_fasta_test: /Users/pauline/Desktop/test_dev/test_1/PfamSplit_50/Pfam_B\n",
      "---> Brier Score with Blosum Predictor: 0.71162 s\n",
      "Blosum Predictor Brier Score: 0.58982169932987\n",
      "\n"
     ]
    }
   ],
   "source": [
    "if blosum_overfitting_test == True:\n",
    "    for percentage_train in list_percentage:\n",
    "        for data_train in (name_data_A, name_data_B):\n",
    "            for data_test in (name_data_A, name_data_B):\n",
    "                mainBlosumBrier.overfittingTest(path_new_folder, percentage_train, path_folder_pId, path_BlosumRes, data_train, data_test, list_residu)\n",
    "\n",
    "# def overfittingTest(path_data, percentage_A, path_pid, path_BlosumRes, name_data_train, name_data_test):\n"
   ]
  },
  {
   "cell_type": "markdown",
   "metadata": {},
   "source": [
    "# Simple context blosum generator \n",
    "\n",
    "(i.e cubes of conditional probabilities)"
   ]
  },
  {
   "cell_type": "code",
   "execution_count": 9,
   "metadata": {},
   "outputs": [
    {
     "ename": "NameError",
     "evalue": "name 'cube_generator' is not defined",
     "output_type": "error",
     "traceback": [
      "\u001b[0;31m---------------------------------------------------------------------------\u001b[0m",
      "\u001b[0;31mNameError\u001b[0m                                 Traceback (most recent call last)",
      "\u001b[1;32m/Users/pauline/Desktop/Stage_MNHN/utils_dev/main.ipynb Cell 16'\u001b[0m in \u001b[0;36m<cell line: 9>\u001b[0;34m()\u001b[0m\n\u001b[1;32m      <a href='vscode-notebook-cell:/Users/pauline/Desktop/Stage_MNHN/utils_dev/main.ipynb#ch0000019?line=4'>5</a>\u001b[0m path_folder_fasta_train \u001b[39m=\u001b[39m path_folder_fasta_train \u001b[39m=\u001b[39m \u001b[39mf\u001b[39m\u001b[39m\"\u001b[39m\u001b[39m{\u001b[39;00mpath_folder_data_split\u001b[39m}\u001b[39;00m\u001b[39m/PfamSplit_\u001b[39m\u001b[39m{\u001b[39;00m\u001b[39mstr\u001b[39m(percentage_train)\u001b[39m}\u001b[39;00m\u001b[39m/\u001b[39m\u001b[39m{\u001b[39;00mname_data_train\u001b[39m}\u001b[39;00m\u001b[39m\"\u001b[39m \n\u001b[1;32m      <a href='vscode-notebook-cell:/Users/pauline/Desktop/Stage_MNHN/utils_dev/main.ipynb#ch0000019?line=5'>6</a>\u001b[0m path_NeighborRes \u001b[39m=\u001b[39m \u001b[39mf\u001b[39m\u001b[39m\"\u001b[39m\u001b[39m{\u001b[39;00mpath_new_folder\u001b[39m}\u001b[39;00m\u001b[39m/\u001b[39m\u001b[39m{\u001b[39;00mname_NeighborRes\u001b[39m}\u001b[39;00m\u001b[39m\"\u001b[39m\n\u001b[0;32m----> <a href='vscode-notebook-cell:/Users/pauline/Desktop/Stage_MNHN/utils_dev/main.ipynb#ch0000019?line=8'>9</a>\u001b[0m \u001b[39mif\u001b[39;00m cube_generator \u001b[39m==\u001b[39m \u001b[39mTrue\u001b[39;00m:\n\u001b[1;32m     <a href='vscode-notebook-cell:/Users/pauline/Desktop/Stage_MNHN/utils_dev/main.ipynb#ch0000019?line=9'>10</a>\u001b[0m     \u001b[39mfor\u001b[39;00m delay_num \u001b[39min\u001b[39;00m list_delay_number:\n\u001b[1;32m     <a href='vscode-notebook-cell:/Users/pauline/Desktop/Stage_MNHN/utils_dev/main.ipynb#ch0000019?line=10'>11</a>\u001b[0m         \u001b[39mfor\u001b[39;00m kp_SeqChoice \u001b[39min\u001b[39;00m [\u001b[39m\"\u001b[39m\u001b[39mk\u001b[39m\u001b[39m\"\u001b[39m, \u001b[39m\"\u001b[39m\u001b[39mp\u001b[39m\u001b[39m\"\u001b[39m]:\n",
      "\u001b[0;31mNameError\u001b[0m: name 'cube_generator' is not defined"
     ]
    }
   ],
   "source": [
    "list_delay_number = [-1, 1]\n",
    "name_NeighborRes = \"NeighborRes\"\n",
    "percentage_train = 50\n",
    "name_data_train = \"Pfam_A\"\n",
    "path_folder_fasta_train = path_folder_fasta_train = f\"{path_folder_data_split}/PfamSplit_{str(percentage_train)}/{name_data_train}\" \n",
    "path_NeighborRes = f\"{path_new_folder}/{name_NeighborRes}\"\n",
    "\n",
    "\n",
    "if cube_generator == True:\n",
    "    for delay_num in list_delay_number:\n",
    "        for kp_SeqChoice in [\"k\", \"p\"]:\n",
    "            print(\"{}, {}\".format(delay_num, kp_SeqChoice))\n",
    "            path_proba_cond =  mainNeighbor.simpleContextualBlosum(path_folder_fasta_train, percentage_train, path_folder_pId, path_NeighborRes, delay_num, kp_SeqChoice, pid_inf = 62, scale_factor = 2)\n",
    "  \n"
   ]
  }
 ],
 "metadata": {
  "interpreter": {
   "hash": "aee8b7b246df8f9039afb4144a1f6fd8d2ca17a180786b69acc140d282b71a49"
  },
  "kernelspec": {
   "display_name": "Python 3.9.2 64-bit",
   "language": "python",
   "name": "python3"
  },
  "language_info": {
   "codemirror_mode": {
    "name": "ipython",
    "version": 3
   },
   "file_extension": ".py",
   "mimetype": "text/x-python",
   "name": "python",
   "nbconvert_exporter": "python",
   "pygments_lexer": "ipython3",
   "version": "3.9.2"
  },
  "orig_nbformat": 4
 },
 "nbformat": 4,
 "nbformat_minor": 2
}
