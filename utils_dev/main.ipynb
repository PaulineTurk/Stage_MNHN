{
 "cells": [
  {
   "cell_type": "code",
   "execution_count": 1,
   "metadata": {},
   "outputs": [
    {
     "name": "stdout",
     "output_type": "stream",
     "text": [
      "script_3\n",
      "script_2\n"
     ]
    }
   ],
   "source": [
    "from pickle import TRUE\n",
    "import dataSplit\n",
    "import os, shutil\n",
    "import redundancy\n",
    "import Stockholm_Fasta\n",
    "import PID_save as pid\n",
    "import redundancy\n",
    "import numpy as np\n",
    "import pandas as pd\n",
    "import mainBlosum\n",
    "import mainBlosumBrier\n",
    "import lowerToUpper\n",
    "import dataCountDescription\n",
    "import mainNeighbor\n",
    "import ContextuelBrier\n",
    "\n",
    "import cProfile"
   ]
  },
  {
   "cell_type": "markdown",
   "metadata": {},
   "source": [
    "# Initial configuration\n",
    "\n",
    "Manual initialisation of a folder containing Pfam_dev (sample of the downloaded version from Pfam)"
   ]
  },
  {
   "cell_type": "code",
   "execution_count": 2,
   "metadata": {},
   "outputs": [],
   "source": [
    "path_main_folder =  \"/Users/pauline/Desktop/test_dev_v2\" \n",
    "name_file_from_Pfam = \"Pfam_dev_v2\"\n",
    "path_file_from_Pfam = f\"{path_main_folder}/{name_file_from_Pfam}\" "
   ]
  },
  {
   "cell_type": "markdown",
   "metadata": {},
   "source": [
    "\n",
    "#  User choices"
   ]
  },
  {
   "cell_type": "code",
   "execution_count": 3,
   "metadata": {},
   "outputs": [],
   "source": [
    "name_folder_stockholm = \"Pfam_Stockholm\"\n",
    "name_folder_fasta = \"Pfam_fasta\"\n",
    "name_folder_upper = \"Pfam_upper\"\n",
    "name_folder_pid = \"PID_couple\"\n",
    "name_fasta_non_redondant = \"Pfam_fasta_99\"\n",
    "\n",
    "list_residu = [\"A\", \"R\", \"N\", \"D\", \"C\", \"Q\", \"E\", \"G\", \"H\", \"I\", \"L\", \"K\", \"M\", \"F\", \"P\", \"S\", \"T\", \"W\", \"Y\", \"V\"]\n",
    "pid_sup = 99"
   ]
  },
  {
   "cell_type": "code",
   "execution_count": 4,
   "metadata": {},
   "outputs": [],
   "source": [
    "data_treatment = False\n",
    "descriptionPfam = False\n",
    "\n",
    "new_folder = False\n",
    "\n",
    "blosumGenerator = False\n",
    "blosum_overfitting_test = False\n",
    "\n",
    "cube_generator = True\n",
    "\n",
    "brier_Score_naive_Bayes = False"
   ]
  },
  {
   "cell_type": "markdown",
   "metadata": {},
   "source": [
    "## Data treatment\n",
    "(do it once !)"
   ]
  },
  {
   "cell_type": "code",
   "execution_count": 5,
   "metadata": {},
   "outputs": [],
   "source": [
    "path_folder_stockholm = f\"{path_main_folder}/{name_folder_stockholm}\"  \n",
    "path_folder_fasta = f\"{path_main_folder}/{name_folder_fasta}\"\n",
    "path_folder_upper = f\"{path_main_folder}/{name_folder_upper}\"\n",
    "path_folder_pId = f\"{path_main_folder}/{name_folder_pid}\"\n",
    "path_folder_fasta_non_redondant =  f\"{path_main_folder}/{name_fasta_non_redondant}\" \n",
    "\n",
    "\n",
    "\n",
    "\n",
    "\n",
    "\n",
    "if data_treatment == True:\n",
    "    # separation of the Stockholm file into Stockholm files\n",
    "    Stockholm_Fasta.separationStockholm(path_file_from_Pfam, path_folder_stockholm) \n",
    "    #fileNumber.countFile(path_folder_stockholm)  \n",
    "\n",
    "    # conversion from stockholm into fasta files\n",
    "    Stockholm_Fasta.multiStockholmToFasta(path_folder_fasta, path_folder_stockholm)  \n",
    "    #dataCountDescription.dataCountDescription(path_folder_fasta)\n",
    "\n",
    "    # conversion of all the residus lower case into upper case\n",
    "    lowerToUpper.multiLowerToUpper(path_folder_fasta, path_folder_upper)\n",
    "    #dataCountDescription.dataCountDescription(path_folder_upper)\n",
    "\n",
    "    # pid couple calculation\n",
    "    pid.savePId(path_folder_upper, path_folder_pId)   \n",
    "\n",
    "    # redundancy issue  \n",
    "    redundancy.savePIdNonRedondant(path_folder_upper, path_folder_fasta_non_redondant, pid_sup, list_residu) \n",
    "    #dataCountDescription.dataCountDescription(path_folder_fasta_non_redondant)\n",
    "\n",
    "\n",
    "# description Pfam after data treatment\n",
    "if descriptionPfam is True:\n",
    "    dataCountDescription.dataCountDescription(path_folder_fasta_non_redondant, list_residu)\n",
    "\n",
    "\n"
   ]
  },
  {
   "cell_type": "markdown",
   "metadata": {},
   "source": [
    "# Data_split versionning"
   ]
  },
  {
   "cell_type": "code",
   "execution_count": 6,
   "metadata": {},
   "outputs": [],
   "source": [
    "name_new_folder =  \"test_1\" # check that the name is not already taken\n",
    "percentage_A = 50  \n",
    "path_new_folder = f\"{path_main_folder}/{name_new_folder}\"\n",
    "name_data_A = \"Pfam_A\"\n",
    "name_data_B = \"Pfam_B\"\n",
    "path_folder_data_split = f\"{path_new_folder}/PfamSplit_{str(percentage_A)}\"\n",
    "\n",
    "\n",
    "if new_folder is True:\n",
    "    if os.path.isdir(path_new_folder):\n",
    "        shutil.rmtree(path_new_folder) \n",
    "    os.mkdir(path_new_folder)  \n",
    "    \n",
    "    dataSplit.dataSplit(path_folder_fasta_non_redondant, path_folder_data_split, percentage_A, name_data_A, name_data_B)"
   ]
  },
  {
   "cell_type": "markdown",
   "metadata": {},
   "source": [
    "# Non-contextual Blosum"
   ]
  },
  {
   "cell_type": "code",
   "execution_count": 7,
   "metadata": {},
   "outputs": [],
   "source": [
    "name_BlosumRes = \"BlosumRes\"\n",
    "path_BlosumRes = f\"{path_new_folder}/{name_BlosumRes}\" \n",
    "percentage_train = 50\n",
    "\n",
    "\n",
    "\n",
    "if blosumGenerator is True:\n",
    "    if os.path.isdir(path_BlosumRes):\n",
    "        shutil.rmtree(path_BlosumRes) \n",
    "    os.mkdir(path_BlosumRes)\n",
    "    \n",
    "    #cProfile.run(\"mainBlosum.conditionalProbaGenerator(path_new_folder, percentage_train, path_folder_pId, path_BlosumRes, list_residu, name_data_A)\", sort = 'tottime')\n",
    "    mainBlosum.conditionalProbaGenerator(path_new_folder, percentage_train, path_folder_pId, path_BlosumRes, list_residu, name_data_A)\n",
    "    mainBlosum.conditionalProbaGenerator(path_new_folder, percentage_train, path_folder_pId, path_BlosumRes, list_residu, name_data_B) \n"
   ]
  },
  {
   "cell_type": "markdown",
   "metadata": {},
   "source": [
    "# Brier Score\n",
    "\n",
    "Over-fitting part"
   ]
  },
  {
   "cell_type": "code",
   "execution_count": 8,
   "metadata": {},
   "outputs": [],
   "source": [
    "if blosum_overfitting_test is True:\n",
    "\n",
    "    list_data_train = [name_data_A, name_data_B]\n",
    "    list_data_test = [name_data_A, name_data_B]\n",
    "\n",
    "    #list_data_train = [name_data_A]\n",
    "    #list_data_test = [name_data_B]\n",
    "    \n",
    "    for data_train in list_data_train:\n",
    "        for data_test in list_data_test:\n",
    "            #cProfile.run(\"mainBlosumBrier.overfittingTest(path_new_folder, percentage_train, path_folder_pId, path_BlosumRes, data_train, data_test, list_residu)\", sort = 'tottime')\n",
    "            mainBlosumBrier.overfittingTest(path_new_folder, percentage_train, path_folder_pId, path_BlosumRes, data_train, data_test, list_residu)"
   ]
  },
  {
   "cell_type": "markdown",
   "metadata": {},
   "source": [
    "# Simple context blosum generator \n",
    "\n",
    "(i.e cubes of conditional probabilities)"
   ]
  },
  {
   "cell_type": "code",
   "execution_count": 9,
   "metadata": {},
   "outputs": [
    {
     "name": "stdout",
     "output_type": "stream",
     "text": [
      "---> Compute the conditional probability matrix: 642.97459 s\n",
      "(-1,k) - conditional proba\n",
      "---> Compute the conditional probability matrix: 654.98542 s\n",
      "(-1,p) - conditional proba\n",
      "---> Compute the conditional probability matrix: 643.14141 s\n",
      "(1,k) - conditional proba\n",
      "---> Compute the conditional probability matrix: 618.75362 s\n",
      "(1,p) - conditional proba\n",
      "---> Compute the conditional probability matrix: 594.64607 s\n",
      "(-2,k) - conditional proba\n",
      "---> Compute the conditional probability matrix: 630.41026 s\n",
      "(-2,p) - conditional proba\n",
      "---> Compute the conditional probability matrix: 631.43687 s\n",
      "(2,k) - conditional proba\n",
      "---> Compute the conditional probability matrix: 621.48513 s\n",
      "(2,p) - conditional proba\n"
     ]
    }
   ],
   "source": [
    "#list_delay_number = [k for k in range(-10, 11) if k!=0]\n",
    "list_delay_number = [-1, 1, -2, 2]\n",
    "name_NeighborRes = \"NeighborRes\"\n",
    "name_data_train = \"Pfam_A\"\n",
    "path_folder_fasta_train = f\"{path_folder_data_split}/{name_data_train}\" \n",
    "path_NeighborRes = f\"{path_new_folder}/{name_NeighborRes}\"\n",
    "\n",
    "\n",
    "\n",
    "\n",
    "if cube_generator is True:\n",
    "    for delay_num in list_delay_number:\n",
    "        for kp_SeqChoice in [\"k\", \"p\"]:   \n",
    "            path_proba_cond =  mainNeighbor.simpleContextualBlosum(path_folder_fasta_train, percentage_train, path_folder_pId, path_NeighborRes, delay_num, kp_SeqChoice, list_residu, pid_inf = 62)\n",
    "  \n"
   ]
  },
  {
   "cell_type": "markdown",
   "metadata": {},
   "source": [
    "# Brier Score with simple context (Naive Bayes)"
   ]
  },
  {
   "cell_type": "code",
   "execution_count": 10,
   "metadata": {},
   "outputs": [],
   "source": [
    "\n",
    "name_data_test = \"Pfam_B\"\n",
    "path_folder_fasta_test = f\"{path_folder_data_split}/{name_data_test}\" \n",
    "# context fromat: [len_window_left_k, len_window_right_k, len_window_left_p, len_window_right_p] \n",
    "list_list_len_window = [[1, 0, 0, 0], [0, 1, 0, 0], [0, 0, 1, 0], [0, 0, 0, 1], [2, 0, 0, 0], [0, 2, 0, 0], [0, 0, 2, 0], [0, 0, 0, 2]] \n",
    "#list_list_len_window = [[1, 0, 0, 0]] \n",
    "\n",
    "\n",
    "if brier_Score_naive_Bayes is True:\n",
    "    for list_len_window in list_list_len_window:\n",
    "        print(list_len_window)\n",
    "        list_bloc = []\n",
    "        for position, len_window in enumerate(list_len_window):\n",
    "            if len_window != 0:\n",
    "                list_neighborResSelection_name, list_neighborResSelection = ContextuelBrier.neighborResSelection(position, len_window, percentage_train, path_NeighborRes)         \n",
    "                list_bloc.append(list_neighborResSelection)\n",
    "            else:\n",
    "                list_bloc.append([])\n",
    "        #cProfile.run(\"ContextuelBrier.multriContextBayes(path_folder_fasta_test, path_folder_pId, path_NeighborRes, list_len_window, list_bloc, list_residu, pid_inf = 62)\", sort = 'tottime')\n",
    "        ContextuelBrier.multriContextBayes(path_folder_fasta_test, path_folder_pId, path_NeighborRes, list_len_window, list_bloc, list_residu, list_list_len_window, pid_inf = 62)\n",
    "        print(\"\")"
   ]
  }
 ],
 "metadata": {
  "interpreter": {
   "hash": "aee8b7b246df8f9039afb4144a1f6fd8d2ca17a180786b69acc140d282b71a49"
  },
  "kernelspec": {
   "display_name": "Python 3.9.2 64-bit",
   "language": "python",
   "name": "python3"
  },
  "language_info": {
   "codemirror_mode": {
    "name": "ipython",
    "version": 3
   },
   "file_extension": ".py",
   "mimetype": "text/x-python",
   "name": "python",
   "nbconvert_exporter": "python",
   "pygments_lexer": "ipython3",
   "version": "3.9.2"
  },
  "orig_nbformat": 4
 },
 "nbformat": 4,
 "nbformat_minor": 2
}
