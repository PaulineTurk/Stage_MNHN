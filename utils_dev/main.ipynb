{
 "cells": [
  {
   "cell_type": "code",
   "execution_count": 65,
   "metadata": {},
   "outputs": [],
   "source": [
    "from pickle import TRUE\n",
    "import dataSplit\n",
    "import os, shutil\n",
    "import redundancy\n",
    "import Stockholm_Fasta\n",
    "import fileNumber\n",
    "import PID_save as pid\n",
    "import redundancy\n",
    "import numpy as np\n",
    "import pandas as pd\n",
    "import mainBlosum\n",
    "import mainBlosumBrier\n",
    "import lowerToUpper\n",
    "import dataCountDescription\n",
    "import mainNeighbor\n",
    "import ContextuelBrier"
   ]
  },
  {
   "cell_type": "markdown",
   "metadata": {},
   "source": [
    "# Initial configuration\n",
    "\n",
    "Manual initialisation of a folder containing Pfam_dev (sample of the downloaded version from Pfam)"
   ]
  },
  {
   "cell_type": "code",
   "execution_count": 66,
   "metadata": {},
   "outputs": [],
   "source": [
    "path_main_folder =  \"/Users/pauline/Desktop/test_dev\" \n",
    "name_file_from_Pfam = \"Pfam_dev\"\n",
    "path_file_from_Pfam = f\"{path_main_folder}/{name_file_from_Pfam}\" "
   ]
  },
  {
   "cell_type": "markdown",
   "metadata": {},
   "source": [
    "\n",
    "#  User choices"
   ]
  },
  {
   "cell_type": "code",
   "execution_count": 67,
   "metadata": {},
   "outputs": [],
   "source": [
    "name_folder_stockholm = \"Pfam_Stockholm\"\n",
    "name_folder_fasta = \"Pfam_fasta\"\n",
    "name_folder_upper = \"Pfam_upper\"\n",
    "name_folder_pid = \"PID_couple\"\n",
    "name_fasta_non_redondant = \"Pfam_fasta_99\"\n",
    "\n",
    "# à enlever script list_AA <-- list_residu\n",
    "list_residu = [\"A\", \"R\", \"N\", \"D\", \"C\", \"Q\", \"E\", \"G\", \"H\", \"I\", \"L\", \"K\", \"M\", \"F\", \"P\", \"S\", \"T\", \"W\", \"Y\", \"V\"]\n",
    "pid_sup = 99"
   ]
  },
  {
   "cell_type": "code",
   "execution_count": 68,
   "metadata": {},
   "outputs": [],
   "source": [
    "data_treatment = True\n",
    "descriptionPfam = False"
   ]
  },
  {
   "cell_type": "markdown",
   "metadata": {},
   "source": [
    "## Data treatment\n",
    "(do it once !)"
   ]
  },
  {
   "cell_type": "code",
   "execution_count": 72,
   "metadata": {},
   "outputs": [
    {
     "name": "stdout",
     "output_type": "stream",
     "text": [
      "--- Separation of the multiStockholm file into monoStockholm files: 0.01249 s\n",
      "--- Conversion of Stockholm files into Fasta files: 0.05478 s\n",
      "--- Correction upper files: 0.01139 s\n",
      "--- Compute and save the pId files: 2.36516 s\n",
      "--- Compute and save non-redundant files: 1.14333 s\n"
     ]
    }
   ],
   "source": [
    "path_folder_stockholm = f\"{path_main_folder}/{name_folder_stockholm}\"  \n",
    "path_folder_fasta = f\"{path_main_folder}/{name_folder_fasta}\"\n",
    "path_folder_upper = f\"{path_main_folder}/{name_folder_upper}\"\n",
    "path_folder_pId = f\"{path_main_folder}/{name_folder_pid}\"\n",
    "path_folder_fasta_non_redondant =  f\"{path_main_folder}/{name_fasta_non_redondant}\" \n",
    "\n",
    "if data_treatment == True:\n",
    "    # separation of the Stockholm file into Stockholm files\n",
    "    Stockholm_Fasta.separationStockholm(path_file_from_Pfam, path_folder_stockholm) \n",
    "    #fileNumber.countFile(path_folder_stockholm)  \n",
    "\n",
    "    # conversion from stockholm into fasta files\n",
    "    Stockholm_Fasta.multiStockholmToFasta(path_folder_fasta, path_folder_stockholm)  \n",
    "    #dataCountDescription.dataCountDescription(path_folder_fasta)\n",
    "\n",
    "    # conversion of all the residus lower case into upper case\n",
    "    lowerToUpper.multiLowerToUpper(path_folder_fasta, path_folder_upper)\n",
    "    #dataCountDescription.dataCountDescription(path_folder_upper)\n",
    "\n",
    "    # pid couple calculation\n",
    "    pid.savePId(path_folder_upper, path_folder_pId)   \n",
    "\n",
    "    # redundancy issue  \n",
    "    redundancy.savePIdNonRedondant(path_folder_upper, path_folder_fasta_non_redondant, pid_sup, list_residu) \n",
    "    #dataCountDescription.dataCountDescription(path_folder_fasta_non_redondant)\n",
    "\n",
    "\n",
    "# description Pfam after data treatment\n",
    "if descriptionPfam == True:\n",
    "    dataCountDescription.dataCountDescription(path_folder_fasta_non_redondant)\n",
    "\n",
    "\n"
   ]
  }
 ],
 "metadata": {
  "interpreter": {
   "hash": "aee8b7b246df8f9039afb4144a1f6fd8d2ca17a180786b69acc140d282b71a49"
  },
  "kernelspec": {
   "display_name": "Python 3.9.2 64-bit",
   "language": "python",
   "name": "python3"
  },
  "language_info": {
   "codemirror_mode": {
    "name": "ipython",
    "version": 3
   },
   "file_extension": ".py",
   "mimetype": "text/x-python",
   "name": "python",
   "nbconvert_exporter": "python",
   "pygments_lexer": "ipython3",
   "version": "3.9.2"
  },
  "orig_nbformat": 4
 },
 "nbformat": 4,
 "nbformat_minor": 2
}
