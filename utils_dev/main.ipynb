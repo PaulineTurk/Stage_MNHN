{
 "cells": [
  {
   "cell_type": "code",
   "execution_count": 11,
   "metadata": {},
   "outputs": [],
   "source": [
    "from pickle import TRUE\n",
    "import dataSplit\n",
    "import os, shutil\n",
    "import redundancy\n",
    "import Stockholm_Fasta\n",
    "import fileNumber\n",
    "import PID_save as pid\n",
    "import redundancy\n",
    "import numpy as np\n",
    "import pandas as pd\n",
    "import mainBlosum\n",
    "import mainBlosumBrier\n",
    "import lowerToUpper\n",
    "import dataCountDescription\n",
    "import mainNeighbor\n",
    "import ContextuelBrier"
   ]
  },
  {
   "cell_type": "markdown",
   "metadata": {},
   "source": [
    "# Initial configuration\n",
    "\n",
    "Manual initialisation of a folder containing Pfam_dev (sample of the downloaded version from Pfam)"
   ]
  },
  {
   "cell_type": "code",
   "execution_count": 6,
   "metadata": {},
   "outputs": [],
   "source": [
    "path_main_folder =  \"/Users/pauline/Desktop/test_dev\" \n",
    "name_file_from_Pfam = \"Pfam_dev\"\n",
    "path_file_from_Pfam = f\"{path_main_folder}/{name_file_from_Pfam}\" "
   ]
  },
  {
   "cell_type": "markdown",
   "metadata": {},
   "source": [
    "\n",
    "#  User choices"
   ]
  },
  {
   "cell_type": "code",
   "execution_count": 7,
   "metadata": {},
   "outputs": [],
   "source": [
    "name_folder_stockholm = \"Pfam_Stockholm\"\n",
    "name_folder_fasta = \"Pfam_fasta\"\n",
    "name_folder_upper = \"Pfam_upper\"\n",
    "name_folder_pid = \"PID_couple\"\n",
    "name_fasta_non_redondant = \"Pfam_fasta_99\"\n",
    "\n",
    "# à enlever script list_AA <-- list_residu\n",
    "list_residu = [\"A\", \"R\", \"N\", \"D\", \"C\", \"Q\", \"E\", \"G\", \"H\", \"I\", \"L\", \"K\", \"M\", \"F\", \"P\", \"S\", \"T\", \"W\", \"Y\", \"V\"]\n",
    "pid_sup = 99"
   ]
  },
  {
   "cell_type": "code",
   "execution_count": 8,
   "metadata": {},
   "outputs": [],
   "source": [
    "data_treatment = True\n",
    "descriptionPfam = False"
   ]
  },
  {
   "cell_type": "markdown",
   "metadata": {},
   "source": [
    "## Data treatment\n",
    "(do it once !)"
   ]
  },
  {
   "cell_type": "code",
   "execution_count": 12,
   "metadata": {},
   "outputs": [
    {
     "ename": "FileNotFoundError",
     "evalue": "[Errno 2] No such file or directory: '/Users/pauline/Desktop/test_dev/Pfam_Stockholm/PF12574.11.stockholm'",
     "output_type": "error",
     "traceback": [
      "\u001b[0;31m---------------------------------------------------------------------------\u001b[0m",
      "\u001b[0;31mFileNotFoundError\u001b[0m                         Traceback (most recent call last)",
      "\u001b[1;32m/Users/pauline/Desktop/Stage_MNHN/utils_dev/main.ipynb Cell 8'\u001b[0m in \u001b[0;36m<cell line: 7>\u001b[0;34m()\u001b[0m\n\u001b[1;32m      <a href='vscode-notebook-cell:/Users/pauline/Desktop/Stage_MNHN/utils_dev/main.ipynb#ch0000007?line=4'>5</a>\u001b[0m path_folder_fasta_non_redondant \u001b[39m=\u001b[39m  \u001b[39mf\u001b[39m\u001b[39m\"\u001b[39m\u001b[39m{\u001b[39;00mpath_main_folder\u001b[39m}\u001b[39;00m\u001b[39m/\u001b[39m\u001b[39m{\u001b[39;00mname_fasta_non_redondant\u001b[39m}\u001b[39;00m\u001b[39m\"\u001b[39m \n\u001b[1;32m      <a href='vscode-notebook-cell:/Users/pauline/Desktop/Stage_MNHN/utils_dev/main.ipynb#ch0000007?line=6'>7</a>\u001b[0m \u001b[39mif\u001b[39;00m data_treatment \u001b[39m==\u001b[39m \u001b[39mTrue\u001b[39;00m:\n\u001b[1;32m      <a href='vscode-notebook-cell:/Users/pauline/Desktop/Stage_MNHN/utils_dev/main.ipynb#ch0000007?line=7'>8</a>\u001b[0m     \u001b[39m# separation of the Stockholm file into Stockholm files\u001b[39;00m\n\u001b[0;32m----> <a href='vscode-notebook-cell:/Users/pauline/Desktop/Stage_MNHN/utils_dev/main.ipynb#ch0000007?line=8'>9</a>\u001b[0m     Stockholm_Fasta\u001b[39m.\u001b[39;49mseparationStockholm(path_file_from_Pfam, path_folder_stockholm) \n\u001b[1;32m     <a href='vscode-notebook-cell:/Users/pauline/Desktop/Stage_MNHN/utils_dev/main.ipynb#ch0000007?line=9'>10</a>\u001b[0m     \u001b[39m#fileNumber.countFile(path_folder_stockholm)  \u001b[39;00m\n\u001b[1;32m     <a href='vscode-notebook-cell:/Users/pauline/Desktop/Stage_MNHN/utils_dev/main.ipynb#ch0000007?line=10'>11</a>\u001b[0m \n\u001b[1;32m     <a href='vscode-notebook-cell:/Users/pauline/Desktop/Stage_MNHN/utils_dev/main.ipynb#ch0000007?line=11'>12</a>\u001b[0m     \u001b[39m# conversion from stockholm into fasta files\u001b[39;00m\n\u001b[1;32m     <a href='vscode-notebook-cell:/Users/pauline/Desktop/Stage_MNHN/utils_dev/main.ipynb#ch0000007?line=12'>13</a>\u001b[0m     Stockholm_Fasta\u001b[39m.\u001b[39mmultiStockholmToFasta(path_folder_fasta, path_folder_stockholm)  \n",
      "File \u001b[0;32m~/Desktop/Stage_MNHN/utils_dev/Stockholm_Fasta.py:40\u001b[0m, in \u001b[0;36mseparationStockholm\u001b[0;34m(path_file_name, path_folder_to_save)\u001b[0m\n\u001b[1;32m     <a href='file:///Users/pauline/Desktop/Stage_MNHN/utils_dev/Stockholm_Fasta.py?line=37'>38</a>\u001b[0m \u001b[39mwith\u001b[39;00m \u001b[39mopen\u001b[39m(path_file_name) \u001b[39mas\u001b[39;00m file_name:\n\u001b[1;32m     <a href='file:///Users/pauline/Desktop/Stage_MNHN/utils_dev/Stockholm_Fasta.py?line=38'>39</a>\u001b[0m     path_file_out \u001b[39m=\u001b[39m \u001b[39mf\u001b[39m\u001b[39m\"\u001b[39m\u001b[39m{\u001b[39;00mpath_folder_to_save\u001b[39m}\u001b[39;00m\u001b[39m/\u001b[39m\u001b[39m{\u001b[39;00mlist_accession_num[file_out_nbre]\u001b[39m}\u001b[39;00m\u001b[39m.stockholm\u001b[39m\u001b[39m\"\u001b[39m\n\u001b[0;32m---> <a href='file:///Users/pauline/Desktop/Stage_MNHN/utils_dev/Stockholm_Fasta.py?line=39'>40</a>\u001b[0m     \u001b[39mwith\u001b[39;00m \u001b[39mopen\u001b[39;49m(path_file_out) \u001b[39mas\u001b[39;00m file_out:\n\u001b[1;32m     <a href='file:///Users/pauline/Desktop/Stage_MNHN/utils_dev/Stockholm_Fasta.py?line=40'>41</a>\u001b[0m         \u001b[39mfor\u001b[39;00m l \u001b[39min\u001b[39;00m file_name:\n\u001b[1;32m     <a href='file:///Users/pauline/Desktop/Stage_MNHN/utils_dev/Stockholm_Fasta.py?line=41'>42</a>\u001b[0m             \u001b[39mwhile\u001b[39;00m l[\u001b[39m0\u001b[39m:\u001b[39m2\u001b[39m] \u001b[39m!=\u001b[39m \u001b[39m\"\u001b[39m\u001b[39m//\u001b[39m\u001b[39m\"\u001b[39m \u001b[39mand\u001b[39;00m file_out_nbre \u001b[39m<\u001b[39m\u001b[39m=\u001b[39m nbre_file \u001b[39m-\u001b[39m \u001b[39m1\u001b[39m: \u001b[39m# avoid generating an empty file at the end:\u001b[39;00m\n",
      "\u001b[0;31mFileNotFoundError\u001b[0m: [Errno 2] No such file or directory: '/Users/pauline/Desktop/test_dev/Pfam_Stockholm/PF12574.11.stockholm'"
     ]
    }
   ],
   "source": [
    "path_folder_stockholm = f\"{path_main_folder}/{name_folder_stockholm}\"  \n",
    "path_folder_fasta = f\"{path_main_folder}/{name_folder_fasta}\"\n",
    "path_folder_upper = f\"{path_main_folder}/{name_folder_upper}\"\n",
    "path_folder_pId = f\"{path_main_folder}/{name_folder_pid}\"\n",
    "path_folder_fasta_non_redondant =  f\"{path_main_folder}/{name_fasta_non_redondant}\" \n",
    "\n",
    "if data_treatment == True:\n",
    "    # separation of the Stockholm file into Stockholm files\n",
    "    Stockholm_Fasta.separationStockholm(path_file_from_Pfam, path_folder_stockholm) \n",
    "    #fileNumber.countFile(path_folder_stockholm)  \n",
    "\n",
    "    # conversion from stockholm into fasta files\n",
    "    Stockholm_Fasta.multiStockholmToFasta(path_folder_fasta, path_folder_stockholm)  \n",
    "    #dataCountDescription.dataCountDescription(path_folder_fasta)\n",
    "\n",
    "    # conversion of all the residus lower case into upper case\n",
    "    lowerToUpper.multiLowerToUpper(path_folder_fasta, path_folder_upper)\n",
    "    #dataCountDescription.dataCountDescription(path_folder_upper)\n",
    "\n",
    "    # pid couple calculation\n",
    "    pid.savePId(path_folder_upper, path_folder_pId)   \n",
    "\n",
    "    # redundancy issue  \n",
    "    redundancy.savePIdNonRedondant(path_folder_upper, path_folder_fasta_non_redondant, pid_sup, list_residu) \n",
    "    #dataCountDescription.dataCountDescription(path_folder_fasta_non_redondant)\n",
    "\n",
    "\n",
    "# description Pfam after data treatment\n",
    "if descriptionPfam == True:\n",
    "    dataCountDescription.dataCountDescription(path_folder_fasta_non_redondant)\n",
    "\n",
    "\n"
   ]
  }
 ],
 "metadata": {
  "interpreter": {
   "hash": "aee8b7b246df8f9039afb4144a1f6fd8d2ca17a180786b69acc140d282b71a49"
  },
  "kernelspec": {
   "display_name": "Python 3.9.2 64-bit",
   "language": "python",
   "name": "python3"
  },
  "language_info": {
   "codemirror_mode": {
    "name": "ipython",
    "version": 3
   },
   "file_extension": ".py",
   "mimetype": "text/x-python",
   "name": "python",
   "nbconvert_exporter": "python",
   "pygments_lexer": "ipython3",
   "version": "3.9.2"
  },
  "orig_nbformat": 4
 },
 "nbformat": 4,
 "nbformat_minor": 2
}
